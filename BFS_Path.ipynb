{
  "nbformat": 4,
  "nbformat_minor": 0,
  "metadata": {
    "colab": {
      "provenance": []
    },
    "kernelspec": {
      "name": "python3",
      "display_name": "Python 3"
    },
    "language_info": {
      "name": "python"
    }
  },
  "cells": [
    {
      "cell_type": "code",
      "execution_count": 3,
      "metadata": {
        "colab": {
          "base_uri": "https://localhost:8080/"
        },
        "id": "yWn-0zJKgSrR",
        "outputId": "eb00bad8-cc39-46d5-eaed-d1cff5de1da3"
      },
      "outputs": [
        {
          "output_type": "stream",
          "name": "stdout",
          "text": [
            "Path from A to G: ['A', 'C', 'G']\n"
          ]
        }
      ],
      "source": [
        "from collections import deque\n",
        "def bfs(graph, start, target):\n",
        "    queue = deque([(start, [start])])\n",
        "    visited = {start}\n",
        "\n",
        "    while queue:\n",
        "        current_node, path = queue.popleft()\n",
        "\n",
        "        if current_node == target:\n",
        "            return path\n",
        "        for n in graph[current_node]:\n",
        "            if n not in visited:\n",
        "                visited.add(n)\n",
        "                queue.append((n, path + [n]))\n",
        "    return None\n",
        "\n",
        "graph = {\n",
        "    'A': ['B', 'C', 'D'],\n",
        "    'B': ['E', 'F'],\n",
        "    'C': ['G'],\n",
        "    'D': [],\n",
        "    'E': [],\n",
        "    'F': [],\n",
        "    'G': []\n",
        "}\n",
        "s = 'A'\n",
        "t = 'G'\n",
        "path = bfs(graph,s,t)\n",
        "\n",
        "if path:\n",
        "    print(f\"Path from {s} to {t}: {path}\")\n",
        "else:\n",
        "    print(f\"No path found from {s} to {t}\")"
      ]
    }
  ]
}