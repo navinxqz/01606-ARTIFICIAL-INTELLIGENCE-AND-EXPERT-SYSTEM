{
  "nbformat": 4,
  "nbformat_minor": 0,
  "metadata": {
    "colab": {
      "provenance": []
    },
    "kernelspec": {
      "name": "python3",
      "display_name": "Python 3"
    },
    "language_info": {
      "name": "python"
    }
  },
  "cells": [
    {
      "cell_type": "code",
      "execution_count": 1,
      "metadata": {
        "colab": {
          "base_uri": "https://localhost:8080/"
        },
        "id": "yWn-0zJKgSrR",
        "outputId": "17df3b4f-8aae-498e-d320-be30d0c8c736"
      },
      "outputs": [
        {
          "output_type": "stream",
          "name": "stdout",
          "text": [
            "Path from A to G: ['A', 'C', 'G']\n"
          ]
        }
      ],
      "source": [
        "from collections import deque\n",
        "def bfs_traversal(graph, start, target):\n",
        "    queue = deque([(start, [start])])\n",
        "    visited = {start}\n",
        "\n",
        "    while queue:\n",
        "        current_node, path = queue.popleft()\n",
        "\n",
        "        if current_node == target:\n",
        "            return path\n",
        "        for neighbor in graph[current_node]:\n",
        "            if neighbor not in visited:\n",
        "                visited.add(neighbor)\n",
        "                queue.append((neighbor, path + [neighbor]))\n",
        "    return None\n",
        "\n",
        "graph = {\n",
        "    'A': ['B', 'C', 'D'],\n",
        "    'B': ['E', 'F'],\n",
        "    'C': ['G'],\n",
        "    'D': [],\n",
        "    'E': [],\n",
        "    'F': [],\n",
        "    'G': []\n",
        "}\n",
        "start_node = 'A'\n",
        "target_node = 'G'\n",
        "path = bfs_traversal(graph, start_node, target_node)\n",
        "\n",
        "if path:\n",
        "    print(f\"Path from {start_node} to {target_node}: {path}\")\n",
        "else:\n",
        "    print(f\"No path found from {start_node} to {target_node}\")"
      ]
    }
  ]
}